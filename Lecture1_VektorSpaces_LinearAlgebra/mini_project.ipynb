{
 "cells": [
  {
   "cell_type": "code",
   "execution_count": 1,
   "metadata": {},
   "outputs": [],
   "source": [
    "import numpy as np\n",
    "import scipy.sparse as sp\n",
    "from scipy.sparse.linalg import spsolve\n",
    "from mpl_toolkits.mplot3d import axes3d\n",
    "import matplotlib.pyplot as plt\n",
    "from pylab import cm"
   ]
  },
  {
   "cell_type": "code",
   "execution_count": 2,
   "metadata": {},
   "outputs": [],
   "source": [
    "from sympy.interactive import printing\n",
    "printing.init_printing(use_latex=True)\n",
    "from sympy import Function, Eq, Symbol \n",
    "import sympy as sp"
   ]
  },
  {
   "cell_type": "code",
   "execution_count": 3,
   "metadata": {},
   "outputs": [],
   "source": [
    "x= sp.Symbol('x')\n",
    "y=sp.Symbol('y')\n",
    "e= sp.Symbol('epsilon')\n",
    "f=sp.Function('f')(x,y)"
   ]
  },
  {
   "cell_type": "markdown",
   "metadata": {},
   "source": [
    "#### Poisson-Equation electric potential in an electrostatic field"
   ]
  },
  {
   "cell_type": "code",
   "execution_count": 4,
   "metadata": {},
   "outputs": [
    {
     "data": {
      "image/png": "[encoded data removed]",
      "text/latex": [
       "$\\displaystyle \\phi_{xx}{\\left(x,y \\right)} + \\phi_{yy}{\\left(x,y \\right)} = - \\frac{\\rho{\\left(x,y \\right)}}{\\epsilon}$"
      ],
      "text/plain": [
       "                         -ρ(x, y) \n",
       "φₓₓ(x, y) + φ_yy(x, y) = ─────────\n",
       "                             ε    "
      ]
     },
     "execution_count": 4,
     "metadata": {},
     "output_type": "execute_result"
    }
   ],
   "source": [
    "phi_xx = sp.Function('phi_xx')(x,y)\n",
    "phi_yy = sp.Function('phi_yy')(x,y)\n",
    "rho    = sp.Function('rho')(x,y)\n",
    "\n",
    "poiss_eq = sp.Eq(phi_xx+phi_yy,-(1/e)*rho)\n",
    "poiss_eq"
   ]
  },
  {
   "cell_type": "markdown",
   "metadata": {},
   "source": [
    "For a charge-free space $\\rho$ =0 the Laplace-equation hold"
   ]
  },
  {
   "cell_type": "code",
   "execution_count": 5,
   "metadata": {},
   "outputs": [
    {
     "data": {
      "image/png": "[encoded data removed]",
      "text/latex": [
       "$\\displaystyle \\phi_{xx}{\\left(x,y \\right)} + \\phi_{yy}{\\left(x,y \\right)} = 0$"
      ],
      "text/plain": [
       "φₓₓ(x, y) + φ_yy(x, y) = 0"
      ]
     },
     "execution_count": 5,
     "metadata": {},
     "output_type": "execute_result"
    }
   ],
   "source": [
    "lap_eq=sp.Eq(phi_xx+phi_yy,0)\n",
    "lap_eq"
   ]
  },
  {
   "cell_type": "markdown",
   "metadata": {},
   "source": [
    "#### Defineing the grid: \n",
    "$\\Delta \\ x \\ = \\Delta \\ y \\ = \\ 0,1 $ \\\n",
    "$\\ 11 \\ \\mathbf{x}\\ 11 \\ Grid $"
   ]
  },
  {
   "cell_type": "code",
   "execution_count": 6,
   "metadata": {},
   "outputs": [],
   "source": [
    "h=0.5                   # step size\n",
    "m=int(1/h+1)            # num of steps\n",
    "A = np.zeros([m*m,m*m])"
   ]
  },
  {
   "cell_type": "markdown",
   "metadata": {},
   "source": [
    "#### Dirichlet boundary conditions"
   ]
  },
  {
   "cell_type": "code",
   "execution_count": 7,
   "metadata": {},
   "outputs": [
    {
     "data": {
      "image/png": "[encoded data removed]",
      "text/latex": [
       "$\\displaystyle \\phi_{1,j}{\\left(0,y \\right)} = 0$"
      ],
      "text/plain": [
       "φ_1,j(0, y) = 0"
      ]
     },
     "execution_count": 7,
     "metadata": {},
     "output_type": "execute_result"
    }
   ],
   "source": [
    "phi_1j= sp.Function('phi_1,j')(0,'y')\n",
    "boun_c1 = sp.Eq(phi_1j,0)\n",
    "boun_c1"
   ]
  },
  {
   "cell_type": "code",
   "execution_count": 8,
   "metadata": {},
   "outputs": [
    {
     "data": {
      "image/png": "[encoded data removed]",
      "text/latex": [
       "$\\displaystyle \\phi_{11,j}{\\left(1,y \\right)} = 1$"
      ],
      "text/plain": [
       "φ_11,j(1, y) = 1"
      ]
     },
     "execution_count": 8,
     "metadata": {},
     "output_type": "execute_result"
    }
   ],
   "source": [
    "phi_11j= sp.Function('phi_11,j')(1,'y')\n",
    "boun_c2 = sp.Eq(phi_11j,1)\n",
    "boun_c2"
   ]
  },
  {
   "cell_type": "code",
   "execution_count": 9,
   "metadata": {},
   "outputs": [
    {
     "data": {
      "image/png": "[encoded data removed]",
      "text/latex": [
       "$\\displaystyle \\phi_{i,0}{\\left(x,0 \\right)} = 0$"
      ],
      "text/plain": [
       "φ_i,0(x, 0) = 0"
      ]
     },
     "execution_count": 9,
     "metadata": {},
     "output_type": "execute_result"
    }
   ],
   "source": [
    "phi_i0= sp.Function('phi_i,0')('x','0')\n",
    "boun_c3 = sp.Eq(phi_i0,0)\n",
    "boun_c3"
   ]
  },
  {
   "cell_type": "code",
   "execution_count": 10,
   "metadata": {},
   "outputs": [
    {
     "data": {
      "image/png": "[encoded data removed]",
      "text/latex": [
       "$\\displaystyle \\phi_{i,1}{\\left(x,1 \\right)} = 0$"
      ],
      "text/plain": [
       "φ_i,1(x, 1) = 0"
      ]
     },
     "execution_count": 10,
     "metadata": {},
     "output_type": "execute_result"
    }
   ],
   "source": [
    "phi_i1= sp.Function('phi_i,1')('x','1')\n",
    "boun_c4 = sp.Eq(phi_i1,0)\n",
    "boun_c4"
   ]
  },
  {
   "cell_type": "markdown",
   "metadata": {},
   "source": [
    "The finite difference method is used to \n"
   ]
  }
 ],
 "metadata": {
  "interpreter": {
   "hash": "ba9ba3e23c75b67e72467f61841b19853912e6f9c8e7cab758fd1bd717645a79"
  },
  "kernelspec": {
   "display_name": "Python 3.7.7 ('mlzunker_enz')",
   "language": "python",
   "name": "python3"
  },
  "language_info": {
   "codemirror_mode": {
    "name": "ipython",
    "version": 3
   },
   "file_extension": ".py",
   "mimetype": "text/x-python",
   "name": "python",
   "nbconvert_exporter": "python",
   "pygments_lexer": "ipython3",
   "version": "3.7.7"
  },
  "orig_nbformat": 4
 },
 "nbformat": 4,
 "nbformat_minor": 2
}
