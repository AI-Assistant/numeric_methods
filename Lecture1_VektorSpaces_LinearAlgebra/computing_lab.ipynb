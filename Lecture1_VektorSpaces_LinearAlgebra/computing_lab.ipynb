{
 "cells": [
  {
   "cell_type": "code",
   "execution_count": 133,
   "metadata": {},
   "outputs": [],
   "source": [
    "import numpy as np\n",
    "import scipy.sparse as sp\n",
    "from scipy.sparse.linalg import spsolve\n",
    "from mpl_toolkits.mplot3d import axes3d\n",
    "import matplotlib.pyplot as plt\n",
    "from pylab import cm"
   ]
  },
  {
   "cell_type": "code",
   "execution_count": 134,
   "metadata": {},
   "outputs": [],
   "source": [
    "h=0.05                 # stepsize\n",
    "m=int(1/h+1)            # num of steps\n",
    "Xh=np.linspace(0,1,m)   # array from 0 to 1 in h\n",
    "b=-np.ones((m,1))       # matrix with -1"
   ]
  },
  {
   "cell_type": "code",
   "execution_count": 135,
   "metadata": {},
   "outputs": [],
   "source": [
    "d0 = -2*np.ones((1,m))      # matrix with -2\n",
    "d0[0,0], d0[0,-1] = 1, 1    # BC entries last and first value to 1\n",
    "d1 = np.ones((1, m-1))      # matix wit -1\n",
    "d1[0,0] = 0                 # BC entries first value to 0\n",
    "d2 = np.flip(d1, 1)         # is d1 fliped\n",
    "A = (1/h**2)*(sp.diags(d0, [0]) + sp.diags(d1, [1]) + sp.diags(d2,[-1]))"
   ]
  },
  {
   "cell_type": "code",
   "execution_count": 136,
   "metadata": {},
   "outputs": [],
   "source": [
    "u=spsolve(A,b)"
   ]
  },
  {
   "cell_type": "code",
   "execution_count": 137,
   "metadata": {},
   "outputs": [],
   "source": [
    "x, y, z = np.meshgrid(np.arange(0, 1+h, h),\n",
    "                      np.arange(0, 1+h, h),\n",
    "                      np.arange(0, 1+h, h))"
   ]
  },
  {
   "cell_type": "code",
   "execution_count": 138,
   "metadata": {},
   "outputs": [],
   "source": [
    "E_x = np.ones((m,m,m))\n",
    "E_y = np.zeros((m,m,m))\n",
    "E_z = np.zeros((m,m,m))"
   ]
  },
  {
   "cell_type": "code",
   "execution_count": 139,
   "metadata": {},
   "outputs": [],
   "source": [
    "#listing the scalar values\n",
    "the_fourth_dimension =  np.array([])\n",
    "for i in range(y.shape[0]-1,-1,-1):\n",
    "    for q in range(y.shape[0]-1,-1,-1):\n",
    "        for r in range(y.shape[0]-1,-1,-1):\n",
    "            the_fourth_dimension= np.append(the_fourth_dimension,u[q])  "
   ]
  },
  {
   "cell_type": "code",
   "execution_count": 140,
   "metadata": {},
   "outputs": [
    {
     "data": {
      "text/plain": [
       "<mpl_toolkits.mplot3d.art3d.Line3DCollection at 0x1fbffefe448>"
      ]
     },
     "execution_count": 140,
     "metadata": {},
     "output_type": "execute_result"
    }
   ],
   "source": [
    "# creating figures\n",
    "fig_1 = plt.figure(figsize=(10, 10))\n",
    "ax_1 = fig_1.gca(projection='3d')\n",
    "\n",
    "# adding title and labels\n",
    "ax_1.set_title(\"vector field\")\n",
    "ax_1.set_xlabel('X-axis')\n",
    "ax_1.set_ylabel('Y-axis')\n",
    "ax_1.set_zlabel('Z-axis')\n",
    "\n",
    "ax_1.quiver(x, y, z, E_x, E_y, E_z, length=0.1, color = 'black')"
   ]
  },
  {
   "cell_type": "code",
   "execution_count": 141,
   "metadata": {},
   "outputs": [],
   "source": [
    "# creating figures\n",
    "fig_2 = plt.figure(figsize=(10, 10))\n",
    "ax_2 = fig_2.add_subplot(111, projection='3d')\n",
    "  \n",
    "# adding title and labels\n",
    "ax_2.set_title(\"scalar field\")\n",
    "ax_2.set_xlabel('X-axis')\n",
    "ax_2.set_ylabel('Y-axis')\n",
    "ax_2.set_zlabel('Z-axis')\n",
    "\n",
    "ax_2.scatter(x, y, z, c=the_fourth_dimension, cmap='viridis', marker='o')\n",
    "\n",
    "# displaying plot\n",
    "plt.show()"
   ]
  }
 ],
 "metadata": {
  "interpreter": {
   "hash": "ba9ba3e23c75b67e72467f61841b19853912e6f9c8e7cab758fd1bd717645a79"
  },
  "kernelspec": {
   "display_name": "Python 3.7.7 ('mlzunker_enz')",
   "language": "python",
   "name": "python3"
  },
  "language_info": {
   "codemirror_mode": {
    "name": "ipython",
    "version": 3
   },
   "file_extension": ".py",
   "mimetype": "text/x-python",
   "name": "python",
   "nbconvert_exporter": "python",
   "pygments_lexer": "ipython3",
   "version": "3.7.7"
  },
  "orig_nbformat": 4
 },
 "nbformat": 4,
 "nbformat_minor": 2
}
