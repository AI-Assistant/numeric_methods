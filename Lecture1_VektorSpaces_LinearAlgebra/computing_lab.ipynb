{
 "cells": [
  {
   "cell_type": "code",
   "execution_count": 10,
   "metadata": {},
   "outputs": [],
   "source": [
    "import numpy as np\n",
    "import scipy.sparse as sp\n",
    "from scipy.sparse.linalg import spsolve"
   ]
  },
  {
   "cell_type": "code",
   "execution_count": 11,
   "metadata": {},
   "outputs": [],
   "source": [
    "h=0.001                 # stepsize\n",
    "m=int(1/h+1)            # num of steps\n",
    "Xh=np.linspace(0,1,m)   # array from 0 to 1 in h\n",
    "b=-np.ones((m,1))       # matrix with -1"
   ]
  },
  {
   "cell_type": "code",
   "execution_count": 12,
   "metadata": {},
   "outputs": [],
   "source": [
    "d0 = -2*np.ones((1,m))      # matrix with -2\n",
    "d0[0,0], d0[0,-1] = 1, 1    # BC entries last and first value to 1\n",
    "d1 = np.ones((1, m-1))      # matix wit -1\n",
    "d1[0,0] = 0                 # BC entries first value to 0\n",
    "d2 = np.flip(d1, 1)         # is d1 fliped\n",
    "A = (1/h**2)*(sp.diags(d0, [0]) + sp.diags(d1, [1]) + sp.diags(d2,[-1]))\n"
   ]
  },
  {
   "cell_type": "code",
   "execution_count": 13,
   "metadata": {},
   "outputs": [
    {
     "ename": "NameError",
     "evalue": "name 'plot' is not defined",
     "output_type": "error",
     "traceback": [
      "\u001b[1;31m---------------------------------------------------------------------------\u001b[0m",
      "\u001b[1;31mNameError\u001b[0m                                 Traceback (most recent call last)",
      "\u001b[1;32m<ipython-input-13-f73179ea0561>\u001b[0m in \u001b[0;36m<module>\u001b[1;34m\u001b[0m\n\u001b[1;32m----> 1\u001b[1;33m \u001b[0mplot\u001b[0m\u001b[1;33m(\u001b[0m\u001b[0mA\u001b[0m\u001b[1;33m)\u001b[0m\u001b[1;33m\u001b[0m\u001b[1;33m\u001b[0m\u001b[0m\n\u001b[0m",
      "\u001b[1;31mNameError\u001b[0m: name 'plot' is not defined"
     ]
    }
   ],
   "source": []
  }
 ],
 "metadata": {
  "interpreter": {
   "hash": "ba9ba3e23c75b67e72467f61841b19853912e6f9c8e7cab758fd1bd717645a79"
  },
  "kernelspec": {
   "display_name": "Python 3.7.7 ('mlzunker_enz')",
   "language": "python",
   "name": "python3"
  },
  "language_info": {
   "codemirror_mode": {
    "name": "ipython",
    "version": 3
   },
   "file_extension": ".py",
   "mimetype": "text/x-python",
   "name": "python",
   "nbconvert_exporter": "python",
   "pygments_lexer": "ipython3",
   "version": "3.7.7"
  },
  "orig_nbformat": 4
 },
 "nbformat": 4,
 "nbformat_minor": 2
}
